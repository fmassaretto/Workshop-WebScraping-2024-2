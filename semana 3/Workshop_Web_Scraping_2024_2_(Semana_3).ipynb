{
  "nbformat": 4,
  "nbformat_minor": 0,
  "metadata": {
    "colab": {
      "provenance": []
    },
    "kernelspec": {
      "name": "python3",
      "display_name": "Python 3"
    },
    "language_info": {
      "name": "python"
    }
  },
  "cells": [
    {
      "cell_type": "markdown",
      "source": [
        "# Desafio 1\n",
        "Usando o site: https://transparenciainternacional.org.br/ipc/\n",
        "\n",
        "1. Busque e mostre (Print) todo o conteudo da tabela, neste caso só temos 1 tabela\n",
        "2. Guarde em um dicionário (Python: dict), a chave com o nome do país e o valor com a posiçao e a pontuação\n",
        "3. Mostre a posição, os nomes dos países, sua respectiva pontuação\n",
        "4. Mostre a posição do Brasil, Itália e Japão"
      ],
      "metadata": {
        "id": "NAHWE07BAoeY"
      }
    },
    {
      "cell_type": "code",
      "source": [
        "import requests\n",
        "from bs4 import BeautifulSoup\n",
        "\n",
        "URL = 'https://transparenciainternacional.org.br/ipc/'\n",
        "page = requests.get(URL)\n",
        "soup = BeautifulSoup(page.content, 'html.parser')\n",
        "\n",
        "table = soup.find('table', id='table_1')\n",
        "\n",
        "# tbody = table.tbody\n",
        "tbody = table.find('tbody') # outra forma\n",
        "\n",
        "tr = tbody.find_all('tr')\n",
        "\n",
        "perceptions: dict = {}\n",
        "\n",
        "for element in tr:\n",
        "  td = element.find_all('td')\n",
        "\n",
        "  score = td[1].text\n",
        "  country = td[2].text\n",
        "  position = td[5].text\n",
        "\n",
        "  # crio um dicionario vazio dentro do primeiro dicionario(dict)\n",
        "  # perceptions[country] = {}\n",
        "  # perceptions[country]['pts'] = score\n",
        "  # perceptions[country]['posição'] = position\n",
        "\n",
        "  # ou outra forma\n",
        "  perceptions[country] = {'pts': score, 'posição': position}\n",
        "\n",
        "for key in perceptions:\n",
        "  print(f'Posicao: {perceptions[key][\"posição\"]} - {key} => pontos: {perceptions[key][\"pts\"]}')\n",
        "  # print(key)\n",
        "\n",
        "\n",
        "print(perceptions['Brasil'])\n",
        "print(perceptions['Itália'])\n",
        "print(perceptions['Japão'])\n"
      ],
      "metadata": {
        "id": "VIXd31DIUOjv"
      },
      "execution_count": null,
      "outputs": []
    },
    {
      "cell_type": "markdown",
      "source": [
        "# Desafio Extra: Criar um URL encoder\n",
        "\n",
        "\n",
        "\n",
        "1. Buscar em: https://www.w3schools.com/tags/ref_urlencode.ASP pela tabela de ASCII Encoding Reference\n",
        "2. Guarde o valor ASCII e seu caractere, ex.: {'-': '%2D'}\n",
        "3. No final peça para o usuário digitar um texto para fazer o encoder\n",
        "4. substitua caracteres especiais, ex.: /,:,&,@ etc pelo valor ASCII correspondente.\n",
        "5. Mostre o resultado\n",
        "\n",
        "Por exemplo: Se um usuário digitar: https://fatecjd.edu.br/huawei/moodle/login/index.php?loginredirect=1#module-3 seu programa devera devolver dessa forma: https%3A%2F%2Ffatecjd%2Eedu%2Ebr%2Fhuawei%2Fmoodle%2Flogin%2Findex%2Ephp%3Floginredirect%3D1%23module%2D3\n",
        "\n",
        "6. Extra do extra: Também poderá fazer o inverso (decoder) dado um texto com valor ASCII, transformar para seu caractere correspondente"
      ],
      "metadata": {
        "id": "e2tQC43BqdOo"
      }
    },
    {
      "cell_type": "code",
      "source": [],
      "metadata": {
        "id": "VXYM8TQhqcIb"
      },
      "execution_count": null,
      "outputs": []
    }
  ]
}