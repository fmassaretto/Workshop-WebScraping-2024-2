{
  "nbformat": 4,
  "nbformat_minor": 0,
  "metadata": {
    "colab": {
      "provenance": []
    },
    "kernelspec": {
      "name": "python3",
      "display_name": "Python 3"
    },
    "language_info": {
      "name": "python"
    }
  },
  "cells": [
    {
      "cell_type": "markdown",
      "source": [
        "# Resolução do desafio proposto da semana 3"
      ],
      "metadata": {
        "id": "i1cbtbx_deuH"
      }
    },
    {
      "cell_type": "markdown",
      "source": [
        "# Desafio Extra: Criar um URL encoder\n",
        "\n",
        "\n",
        "\n",
        "1. Buscar em: https://www.w3schools.com/tags/ref_urlencode.ASP pela tabela de ASCII Encoding Reference\n",
        "2. Guarde o valor ASCII e seu caractere, ex.: {'-': '%2D'}\n",
        "3. No final peça para o usuário digitar um texto para fazer o encoder\n",
        "4. substitua caracteres especiais, ex.: /,:,&,@ etc pelo valor ASCII correspondente.\n",
        "5. Mostre o resultado\n",
        "\n",
        "Por exemplo: Se um usuário digitar: https://fatecjd.edu.br/huawei/moodle/login/index.php?loginredirect=1#module-3 seu programa devera devolver dessa forma: https%3A%2F%2Ffatecjd%2Eedu%2Ebr%2Fhuawei%2Fmoodle%2Flogin%2Findex%2Ephp%3Floginredirect%3D1%23module%2D3\n",
        "\n",
        "6. Extra do extra: Também poderá fazer o inverso (decoder) dado um texto com valor ASCII, transformar para seu caractere correspondente"
      ],
      "metadata": {
        "id": "lStZhBf-ZlIC"
      }
    },
    {
      "cell_type": "code",
      "execution_count": null,
      "metadata": {
        "colab": {
          "base_uri": "https://localhost:8080/"
        },
        "id": "4wIk3LuKWF33",
        "outputId": "cefb1e7a-1e39-4007-9896-594e3d7e4c70"
      },
      "outputs": [
        {
          "output_type": "stream",
          "name": "stdout",
          "text": [
            "{' ': '%20', '!': '%21', '\"': '%22', '#': '%23', '$': '%24', '%': '%25', '&': '%26', \"'\": '%27', '(': '%28', ')': '%29', '*': '%2A', '+': '%2B', ',': '%2C', '-': '%2D', '.': '%2E', '/': '%2F', ':': '%3A', ';': '%3B', '<': '%3C', '=': '%3D', '>': '%3E', '?': '%3F', '@': '%40', '[': '%5B', '\\\\': '%5C', ']': '%5D', '^': '%5E', '_': '%5F', '`': '%60', '{': '%7B', '|': '%7C', '}': '%7D', '~': '%7E', '\\xa0': '%C2%A0', '\\n\\n      €': '%E2%82%AC', '\\x81': '%81', '‚': '%E2%80%9A', '„': '%E2%80%9E', '…': '%E2%80%A6', '†': '%E2%80%A0', '‡': '%E2%80%A1', '‰': '%E2%80%B0', '‹': '%E2%80%B9', '\\x8d': '%C5%8D', '\\x8f': '%8F', '\\x90': '%C2%90', '‘': '%E2%80%98', '’': '%E2%80%99', '“': '%E2%80%9C', '”': '%E2%80%9D', '•': '%E2%80%A2', '–': '%E2%80%93', '—': '%E2%80%94', '˜': '%CB%9C', '™': '%E2%84', '›': '%E2%80', '\\x9d': '%9D', '¡': '%C2%A1', '¢': '%C2%A2', '£': '%C2%A3', '¤': '%C2%A4', '¥': '%C2%A5', '¦': '%C2%A6', '§': '%C2%A7', '¨': '%C2%A8', '©': '%C2%A9', '«': '%C2%AB', '¬': '%C2%AC', '\\xad': '%C2%AD', '®': '%C2%AE', '¯': '%C2%AF', '°': '%C2%B0', '±': '%C2%B1', '´': '%C2%B4', '¶': '%C2%B6', '·': '%C2%B7', '¸': '%C2%B8', '»': '%C2%BB', '¼': '%C2%BC', '½': '%C2%BD', '¾': '%C2%BE', '¿': '%C2%BF', '×': '%C3%97', '÷': '%C3%B7'}\n",
            "Texto encodado:  https%3A%2F%2Ffatecjd%2Eedu%2Ebr%2Fhuawei%2Fmoodle%2Flogin%2Findex%2Ephp%3Floginredirect%3D1%23module%2D3\n",
            "Original:  Algum texto aqui. Algum texto ali. algum outro aqui.\n",
            "Replace:  Qualquer texto aqui. Qualquer texto ali. algum outro aqui.\n",
            "Texto decodado:  https://fatecjd.edu.br/huawei/moodle/login/index.php?loginredirect=1#module-3\n"
          ]
        }
      ],
      "source": [
        "import requests\n",
        "from bs4 import BeautifulSoup\n",
        "\n",
        "URL = 'https://www.w3schools.com/tags/ref_urlencode.ASP'\n",
        "page = requests.get(URL)\n",
        "\n",
        "bs = BeautifulSoup(page.content, 'html.parser')\n",
        "\n",
        "table = bs.find('table', class_='ws-table-all notranslate')\n",
        "\n",
        "todos_tr = table.findAll('tr')\n",
        "\n",
        "char_encoded_map_dict = {} # crio um dicionario 'dict' vazio para colocar os carateres e correspondente ascii\n",
        "\n",
        "# char_encoded_map_dict[' '] = '%20'\n",
        "for tr in todos_tr: # percorro cada tag <tr> da tabela\n",
        "  td = tr.findAll('td') #  pego todas tag <td> que estão dentro de <tr> e guardo em na variavel lista chamada td\n",
        "\n",
        "  if len(td) > 0: # neste caso especifico, tem valores vazios vindo da tabela então verifico se cada td é maior que 0, se sim, tem valores dentro e entro no 'if'\n",
        "\n",
        "    if td[0].text == 'space': # se voce ver no site w3schools, a tabela tem como caractere 'space' porem eu preciso substituir por ' ' que é de fato espaço\n",
        "      td[0].text.replace('space', ' ') # aqui eu faço a troca\n",
        "      char_encoded_map_dict[' '] = td[2].text # e adiciono no dicionario, somente 1 vez irá fazer isso pois só tem um 'space' na tabela\n",
        "\n",
        "    # o restante irá fazer a logica abaixo\n",
        "    if not str(td[0].text).isalpha() and not str(td[0].text).isdigit(): # Eu quero somente caracteres especiais, verifico cada caracter 'td[0].text' se nao é letra 'isalpha()' e se nao é digito 'isdigit()'\n",
        "      # print(str(td[0].text), td[2].text)\n",
        "      char_encoded_map_dict[td[0].text] = td[2].text # guardo no dicionario a chave com o valor com o caracter da tabela na coluna 'td[0].text' e seu valor da coluna 'td[2].text'\n",
        "      # ele irá repitir isso até a ultima linha da tabela\n",
        "\n",
        "# print(char_encoded_map_dict)\n",
        "\n",
        "text_to_encode = 'https://fatecjd.edu.br/huawei/moodle/login/index.php?loginredirect=1#module-3'\n",
        "print( char_encoded_map_dict)\n",
        "for char in text_to_encode:\n",
        "  if char in char_encoded_map_dict:\n",
        "    text_to_encode = text_to_encode.replace(char, char_encoded_map_dict[char])\n",
        "\n",
        "print('Texto encodado: ', text_to_encode)\n",
        "\n",
        "text_to_decode = text_to_encode\n",
        "for key, value in char_encoded_map_dict.items(): # aqui eu to percorrendo o dicionario e nao o texto encodado\n",
        "  text_to_decode = text_to_decode.replace(value, key) # .raplace('valor que estou procurando, nesse caso', 'o que eu quero subistituir')\n",
        "                                                      # ex: 'Algum texto aqui. Algum texto ali'.replace('Algum', 'Qualquer')\n",
        "                                                      # Atencao: Tem diferenca entre letras minusculas e maiusculas (por exemplo: 'Algum' é diferente de 'algum')\n",
        "\n",
        "# exemplo do .replace(a, b)\n",
        "texto = 'Algum texto aqui. Algum texto ali. algum outro aqui.'\n",
        "print('Original: ', texto)\n",
        "print('Replace: ', texto.replace('Algum', 'Qualquer'))\n",
        "\n",
        "print('Texto decodado: ', text_to_decode)\n"
      ]
    }
  ]
}