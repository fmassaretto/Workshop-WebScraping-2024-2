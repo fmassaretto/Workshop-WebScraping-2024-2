{
  "nbformat": 4,
  "nbformat_minor": 0,
  "metadata": {
    "colab": {
      "provenance": []
    },
    "kernelspec": {
      "name": "python3",
      "display_name": "Python 3"
    },
    "language_info": {
      "name": "python"
    }
  },
  "cells": [
    {
      "cell_type": "code",
      "execution_count": 8,
      "metadata": {
        "colab": {
          "base_uri": "https://localhost:8080/"
        },
        "id": "scfTODnvQo3K",
        "outputId": "8f716947-c4a9-426d-c7da-bf9ed33128c5"
      },
      "outputs": [
        {
          "output_type": "stream",
          "name": "stdout",
          "text": [
            "[{'title': 'A Light in the Attic', 'price': 'Â£51.77'}, {'title': 'Tipping the Velvet', 'price': 'Â£53.74'}, {'title': 'Soumission', 'price': 'Â£50.10'}, {'title': 'Sharp Objects', 'price': 'Â£47.82'}, {'title': 'Sapiens: A Brief History of Humankind', 'price': 'Â£54.23'}, {'title': 'The Requiem Red', 'price': 'Â£22.65'}, {'title': 'The Dirty Little Secrets of Getting Your Dream Job', 'price': 'Â£33.34'}, {'title': 'The Coming Woman: A Novel Based on the Life of the Infamous Feminist, Victoria Woodhull', 'price': 'Â£17.93'}, {'title': 'The Boys in the Boat: Nine Americans and Their Epic Quest for Gold at the 1936 Berlin Olympics', 'price': 'Â£22.60'}, {'title': 'The Black Maria', 'price': 'Â£52.15'}, {'title': 'Starving Hearts (Triangular Trade Trilogy, #1)', 'price': 'Â£13.99'}, {'title': \"Shakespeare's Sonnets\", 'price': 'Â£20.66'}, {'title': 'Set Me Free', 'price': 'Â£17.46'}, {'title': \"Scott Pilgrim's Precious Little Life (Scott Pilgrim #1)\", 'price': 'Â£52.29'}, {'title': 'Rip it Up and Start Again', 'price': 'Â£35.02'}, {'title': 'Our Band Could Be Your Life: Scenes from the American Indie Underground, 1981-1991', 'price': 'Â£57.25'}, {'title': 'Olio', 'price': 'Â£23.88'}, {'title': 'Mesaerion: The Best Science Fiction Stories 1800-1849', 'price': 'Â£37.59'}, {'title': 'Libertarianism for Beginners', 'price': 'Â£51.33'}, {'title': \"It's Only the Himalayas\", 'price': 'Â£45.17'}]\n"
          ]
        }
      ],
      "source": [
        "# uso das bibliotecas requests e BeautifulSoup, para instalar fora do Colab:\n",
        "import requests # rode no terminal/console pip install requests\n",
        "from bs4 import BeautifulSoup # rode no terminal/console pip install beautifulsoup4\n",
        "\n",
        "\n",
        "\"\"\"\n",
        "  Dica: Algumas das formas de usar o .find_all()\n",
        "\n",
        "  soup.find_all(\"title\")\n",
        "  # [<title>The Dormouse's story</title>]\n",
        "\n",
        "  soup.find_all(\"p\", \"title\")\n",
        "  # [<p class=\"title\"><b>The Dormouse's story</b></p>]\n",
        "\n",
        "  soup.find_all(\"a\")\n",
        "  # [<a class=\"sister\" href=\"http://example.com/elsie\" id=\"link1\">Elsie</a>,\n",
        "  #  <a class=\"sister\" href=\"http://example.com/lacie\" id=\"link2\">Lacie</a>,\n",
        "  #  <a class=\"sister\" href=\"http://example.com/tillie\" id=\"link3\">Tillie</a>]\n",
        "\n",
        "  soup.find_all(id=\"link2\")\n",
        "  # [<a class=\"sister\" href=\"http://example.com/lacie\" id=\"link2\">Lacie</a>]\n",
        "\"\"\"\n",
        "\n",
        "\n",
        "def fetch_books(page_number):\n",
        "  # Variável com a URL/Pagina que eu quero\n",
        "  url = 'https://books.toscrape.com/catalogue/page-1.html'\n",
        "  # 'Pego' o conteudo da pagina\n",
        "  response = requests.get(url)\n",
        "  # Crio um objeto BeautifulSoup, passando a página, para que eu possa fazer as buscas das tags, atributos, textos etc\n",
        "  soup = BeautifulSoup(response.text, 'html.parser')\n",
        "\n",
        "\n",
        "  books = [] # crio uma lista vazia para depois guardar o resultado\n",
        "\n",
        "\n",
        "  # Procuro em todo o HTML pelas TAGs 'article' e que tenha o atributo class com o valor de 'product_pod'\n",
        "  # e coloco na lista book_items\n",
        "  book_items = soup.find_all('article', class_='product_pod')\n",
        "\n",
        "\n",
        "  # Percorro todos os itens da lista\n",
        "  for book_item in book_items:\n",
        "    book_title = book_item.find('h3').find('a').get('title') # acho a TAG 'h3' e dentro dela a TAG 'a' e por fim 'pego' o valor do atributo 'title' da tag\n",
        "    book_price = book_item.find('p', class_='price_color').text # acho a TAG p que tenha a class com valor 'price_color' e 'pego' o texto\n",
        "\n",
        "\n",
        "    # Criar um dicionário e coloco o titulo e o preco e adiciono na lista books\n",
        "    books.append({'title': book_title, 'price': book_price})\n",
        "\n",
        "\n",
        "  return books\n",
        "\n",
        "\n",
        "\n",
        "\n",
        "\n",
        "\n",
        "def main():\n",
        "  # chamo meu metodo criado acima passando o numero da pagina como argumento (obs.: Nao implementado)\n",
        "  print(fetch_books(1))\n",
        "\n",
        "\n",
        "main() # chamada do main()\n",
        "\n",
        "\n"
      ]
    },
    {
      "cell_type": "markdown",
      "source": [
        "# Desafio\n",
        "1. Adicione ao dicionário retornado no método fetch_books, o link para a imagem e o estoque (Se quiserem, um extra e mais avançado adicione o rating, quantas estrelas o livro tem, ex.: 3 estrelas ou 4 estrelas etc).\n",
        "\n",
        "2. Altere para buscar também nas outras páginas\n"
      ],
      "metadata": {
        "id": "_VcEkLKEvY_g"
      }
    }
  ]
}