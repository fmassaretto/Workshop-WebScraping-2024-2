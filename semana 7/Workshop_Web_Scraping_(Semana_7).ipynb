{
  "nbformat": 4,
  "nbformat_minor": 0,
  "metadata": {
    "colab": {
      "provenance": []
    },
    "kernelspec": {
      "name": "python3",
      "display_name": "Python 3"
    },
    "language_info": {
      "name": "python"
    }
  },
  "cells": [
    {
      "cell_type": "markdown",
      "source": [
        "# Workshop Web Scraping (Semana 7)\n",
        "\n",
        "**Exercícios**\n",
        "\n",
        "Nessa primeira parte vamos carregar no BeutifulSoup a página: https://www.worldatlas.com/articles/the-25-largest-internet-companies-in-the-world.html\n",
        "e:\n",
        "\n",
        "\n",
        "1.   pegar todas as linhas da única tabela da página\n",
        "2.   colocar em 2 listas, as empresas (Company) e o faturamento (Revenue ($B))\n",
        "\n"
      ],
      "metadata": {
        "id": "0_9TO1io_bms"
      }
    },
    {
      "cell_type": "code",
      "execution_count": null,
      "metadata": {
        "id": "ncQf1L_u-zTg"
      },
      "outputs": [],
      "source": [
        "import requests\n",
        "from bs4 import BeautifulSoup\n",
        "\n",
        "URL = \"https://www.worldatlas.com/articles/the-25-largest-internet-companies-in-the-world.html\"\n",
        "page = requests.get(URL)\n",
        "\n",
        "soup = BeautifulSoup(page.content, \"html.parser\")\n",
        "\n",
        "table = soup.table # retorna primeira table da página\n",
        "# table = soup.find('table') # outra forma de 'pegar' a tag table (quando tem apenas 1 table na página, usando .find)\n",
        "\n",
        "tbody = table.tbody\n",
        "\n",
        "rows = tbody.findAll('tr')\n",
        "\n",
        "companies = [] # lista vazia para colocar as empresas\n",
        "revenues = [] # lista vazia para colocar o faturamento das empresas\n",
        "\n",
        "for row in rows:\n",
        "    companies.append(row.findAll('td')[1].text)\n",
        "    revenues.append(float(row.findAll('td')[3].text.strip('$')))\n",
        "\n",
        "print(companies)\n",
        "print(revenues)"
      ]
    },
    {
      "cell_type": "markdown",
      "source": [
        "Na segunda parte, criar um gráfico de barras com os dados de empresas e faturamento de cada empresa"
      ],
      "metadata": {
        "id": "j9xRcT4VE3MW"
      }
    },
    {
      "cell_type": "code",
      "source": [
        "import pandas as pd\n",
        "import matplotlib.pyplot as plt\n",
        "\n",
        "# Criar um DataFrame do Pandas com os dados\n",
        "data = {'Empresa': companies, 'Faturamento': revenues}\n",
        "df = pd.DataFrame(data)\n",
        "\n",
        "# Plotar o gráfico de barras\n",
        "df.plot(x='Empresa', y='Faturamento', kind='bar', legend=False)\n",
        "# plt.bar(df['Empresa'], df['Faturamento'])\n",
        "plt.xlabel('Empresa')\n",
        "plt.ylabel('Faturamento (em bilhões $)')\n",
        "plt.title('Faturamento das Empresas')\n",
        "plt.show()"
      ],
      "metadata": {
        "id": "GaY1FgNDDMFe"
      },
      "execution_count": null,
      "outputs": []
    },
    {
      "cell_type": "markdown",
      "source": [
        "# Deasfio Final\n",
        "\n",
        "Buscar no site: https://en.wikipedia.org/wiki/Premier_League\n",
        "a tabela que mostrar os campeões (para ir direto a tabela: https://en.wikipedia.org/wiki/Premier_League#Champions) da Premier League e montar o gráfico de pizza igual à do site (Times e quantidade de campeonatos vencidos)."
      ],
      "metadata": {
        "id": "OkiKMnBbcJFo"
      }
    }
  ]
}